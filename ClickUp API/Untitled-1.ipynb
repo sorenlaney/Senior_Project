{
 "cells": [
  {
   "cell_type": "code",
   "execution_count": 1,
   "metadata": {},
   "outputs": [
    {
     "name": "stdout",
     "output_type": "stream",
     "text": [
      "{'err': 'Token invalid', 'ECODE': 'OAUTH_025'}\n"
     ]
    }
   ],
   "source": [
    "import requests\n",
    "\n",
    "list_id = \"\"\n",
    "url = \"https://api.clickup.com/api/v2/list/\" + list_id + \"/view\"\n",
    "\n",
    "headers = {\"Authorization\": \"pk_30029037_SUY32BUPMFZSN22US7T6GVVKMF0MTAYG\"}\n",
    "\n",
    "response = requests.get(url, headers=headers)\n",
    "\n",
    "data = response.json()\n",
    "print(data)"
   ]
  },
  {
   "cell_type": "code",
   "execution_count": 2,
   "metadata": {},
   "outputs": [
    {
     "name": "stdout",
     "output_type": "stream",
     "text": [
      "{'view': {'id': 'dhfcu-26450', 'name': 'ALL SUBTOPICS', 'type': 'list', 'parent': {'id': '375185823', 'type': 6}, 'grouping': {'field': 'cf_1fd1ac7a-7070-4f1c-b3ef-902b195f6395', 'dir': 1, 'collapsed': [], 'ignore': False}, 'divide': {'field': None, 'dir': None, 'by_subcategory': None, 'collapsed': []}, 'sorting': {'fields': []}, 'filters': {'op': 'AND', 'fields': [{'field': 'tag', 'op': 'ANY', 'determinor': None, 'idx': 0, 'values': ['concept']}], 'search': '', 'search_custom_fields': True, 'search_description': True, 'search_name': True, 'show_closed': False}, 'columns': {'fields': [{'field': 'cf_1fd1ac7a-7070-4f1c-b3ef-902b195f6395', 'idx': 0, 'width': 100, 'hidden': False, 'name': None, 'display': None}, {'field': 'cf_30c56189-99a0-4b6c-a43c-58bff09b656e', 'idx': 1, 'width': 100, 'hidden': False, 'name': None, 'display': None}, {'field': 'cf_15d8e687-34d1-4ea3-b0d3-2b7766bb472c', 'idx': 2, 'width': 100, 'hidden': False, 'name': None, 'display': None}, {'field': 'cf_71f75fba-cea1-45a0-8571-463d0721b5d4', 'idx': 3, 'width': 100, 'hidden': False, 'name': None, 'display': None}, {'field': 'assignee', 'idx': 4, 'width': 100, 'hidden': True, 'name': None, 'display': None}, {'field': 'dueDate', 'idx': 5, 'width': 100, 'hidden': True, 'name': None, 'display': None}, {'field': 'cf_2c38492a-e04b-4e2b-8edb-c54a309ba566', 'idx': 6, 'width': 100, 'hidden': True, 'name': None, 'display': None}, {'field': 'priority', 'idx': 7, 'width': 100, 'hidden': True, 'name': None, 'display': None}, {'field': 'status', 'idx': 8, 'width': 100, 'hidden': True, 'name': None, 'display': None}, {'field': 'id', 'idx': 9, 'width': 100, 'hidden': True, 'name': None, 'display': None}, {'field': 'customId', 'idx': 10, 'width': 100, 'hidden': True, 'name': None, 'display': None}, {'field': 'dateCreated', 'idx': 11, 'width': 100, 'hidden': True, 'name': None, 'display': None}, {'field': 'dateUpdated', 'idx': 12, 'width': 100, 'hidden': True, 'name': None, 'display': None}, {'field': 'startDate', 'idx': 13, 'width': 100, 'hidden': True, 'name': None, 'display': None}, {'field': 'timeLogged', 'idx': 14, 'width': 100, 'hidden': True, 'name': None, 'display': None}, {'field': 'timeEstimate', 'idx': 15, 'width': 100, 'hidden': True, 'name': None, 'display': None}, {'field': 'sprints', 'idx': 16, 'width': 100, 'hidden': True, 'name': None, 'display': None}, {'field': 'dateClosed', 'idx': 17, 'width': 100, 'hidden': True, 'name': None, 'display': None}, {'field': 'createdBy', 'idx': 18, 'width': 100, 'hidden': True, 'name': None, 'display': None}, {'field': 'latestComment', 'idx': 19, 'width': 100, 'hidden': True, 'name': None, 'display': None}, {'field': 'commentCount', 'idx': 20, 'width': 100, 'hidden': True, 'name': None, 'display': None}, {'field': 'lists', 'idx': 21, 'width': 140, 'hidden': True, 'name': None, 'display': None}, {'field': 'pullRequests', 'idx': 22, 'width': 100, 'hidden': True, 'name': None, 'display': None}, {'field': 'incompleteCommentCount', 'idx': 23, 'width': 100, 'hidden': True, 'name': None, 'display': None}, {'field': 'linked', 'idx': 24, 'width': 100, 'hidden': True, 'name': None, 'display': None}, {'field': 'dependencies', 'idx': 25, 'width': 100, 'hidden': True, 'name': None, 'display': None}, {'field': 'pages', 'idx': 26, 'width': 100, 'hidden': True, 'name': None, 'display': None}, {'field': 'cf_245eb208-0afb-4e00-90f6-084c3cb21bd5', 'idx': 27, 'width': 100, 'hidden': True, 'name': None, 'display': None}, {'field': 'cf_841f766b-aff1-45a0-89b3-1d0f0ed73d53', 'idx': 28, 'width': 100, 'hidden': True, 'name': None, 'display': None}, {'field': 'cf_cbe045cb-22df-42b7-a30d-6590d19d494d', 'idx': 29, 'width': 100, 'hidden': True, 'name': None, 'display': None}, {'field': 'cf_a6d6ea5d-86fd-4665-bd2b-97f27850a4f1', 'idx': 30, 'width': 100, 'hidden': True, 'name': None, 'display': None}, {'field': 'cf_d03471f2-c3ea-42dd-ace0-9ec4f3d94b29', 'idx': 31, 'width': 100, 'hidden': True, 'name': None, 'display': None}, {'field': 'cf_f009d22d-1348-4c3d-85aa-64bdd90f1bf0', 'idx': 32, 'width': 100, 'hidden': True, 'name': None, 'display': None}, {'field': 'cf_ff830750-a878-48df-b3c4-752d13d6fe34', 'idx': 33, 'width': 100, 'hidden': True, 'name': None, 'display': None}, {'field': 'cf_651a5d10-56f9-4cc4-b47a-86aabf8ad4e4', 'idx': 34, 'width': 100, 'hidden': True, 'name': None, 'display': None}, {'field': 'cf_1238824c-cc3f-45a3-a1ca-89bb4d0116c5', 'idx': 35, 'width': 100, 'hidden': True, 'name': None, 'display': None}, {'field': 'cf_4ec8e5be-6edb-454e-9993-6631295c871b', 'idx': 36, 'width': 100, 'hidden': True, 'name': None, 'display': None}, {'field': 'cf_85ffbbfd-0842-4eb6-b209-306dec6378f4', 'idx': 37, 'width': 100, 'hidden': True, 'name': None, 'display': None}, {'field': 'cf_68f1e098-611d-4b69-8cdd-a21a5ed10bb2', 'idx': 38, 'width': 100, 'hidden': True, 'name': None, 'display': None}, {'field': 'cf_0c932f83-9b59-4f8d-9778-388786849118', 'idx': 39, 'width': 100, 'hidden': True, 'name': None, 'display': None}, {'field': 'cf_7ba7d17d-2521-4be3-a2f1-8424f6dbb9a9', 'idx': 40, 'width': 100, 'hidden': True, 'name': None, 'display': None}, {'field': 'cf_7a23e71b-c593-467f-a808-17811edcff30', 'idx': 41, 'width': 117, 'hidden': True, 'name': None, 'display': None}, {'field': 'cf_93e2b6c3-48bb-4c26-a72c-7df5a223d42a', 'idx': 42, 'width': 100, 'hidden': True, 'name': None, 'display': None}, {'field': 'cf_85ddbac4-dc4d-4349-80eb-855827fe85ce', 'idx': 43, 'width': 100, 'hidden': True, 'name': None, 'display': None}, {'field': 'cf_e98298fe-37b7-4e23-a482-c52afb96d022', 'idx': 44, 'width': 100, 'hidden': True, 'name': None, 'display': None}, {'field': 'cf_c4c291c4-b100-4e12-bcfb-5c079aeb1a22', 'idx': 45, 'width': 100, 'hidden': True, 'name': None, 'display': None}, {'field': 'cf_411d15c2-764a-4b02-99bc-9ebce2e335cd', 'idx': 46, 'width': 132, 'hidden': True, 'name': None, 'display': None}, {'field': 'name', 'idx': 47, 'width': 100, 'hidden': True, 'name': None, 'display': None}]}, 'team_sidebar': {'assignees': [], 'group_assignees': [], 'assigned_comments': False, 'unassigned_tasks': False}, 'settings': {'show_task_locations': False, 'show_subtasks': 1, 'show_subtask_parent_names': True, 'show_closed_subtasks': False, 'show_assignees': True, 'show_images': True, 'show_timer': False, 'collapse_empty_columns': None, 'me_comments': True, 'me_subtasks': True, 'me_checklists': True, 'show_empty_statuses': None, 'auto_wrap': False, 'time_in_status_view': 1}, 'date_created': '1662517769222', 'creator': 26303015, 'visibility': 'public', 'protected': False, 'protected_note': None, 'protected_by': None, 'date_protected': None, 'orderindex': 6}}\n"
     ]
    }
   ],
   "source": [
    "# Getting List View for Content Plan\n",
    "\n",
    "#https://app.clickup.com/14204314/v/l/dhfcu-26450\n",
    "\n",
    "import requests\n",
    "\n",
    "view_id = \"dhfcu-26450\"\n",
    "url = \"https://api.clickup.com/api/v2/view/\" + view_id\n",
    "\n",
    "headers = {\"Authorization\": \"pk_30029037_RYIIIUWWX53JQN05QKJJXPLKRJYJP3GS\"}\n",
    "\n",
    "response = requests.get(url, headers=headers)\n",
    "\n",
    "data = response.json()\n",
    "print(data)"
   ]
  },
  {
   "cell_type": "code",
   "execution_count": 3,
   "metadata": {},
   "outputs": [],
   "source": [
    "import json\n",
    "\n",
    "jsonString = json.dumps(data)\n",
    "jsonFile = open(\"data.json\", \"w\")\n",
    "jsonFile.write(jsonString)\n",
    "jsonFile.close()"
   ]
  },
  {
   "cell_type": "code",
   "execution_count": 4,
   "metadata": {},
   "outputs": [
    {
     "data": {
      "text/plain": [
       "'{\"view\": {\"id\": \"dhfcu-26450\", \"name\": \"ALL SUBTOPICS\", \"type\": \"list\", \"parent\": {\"id\": \"375185823\", \"type\": 6}, \"grouping\": {\"field\": \"cf_1fd1ac7a-7070-4f1c-b3ef-902b195f6395\", \"dir\": 1, \"collapsed\": [], \"ignore\": false}, \"divide\": {\"field\": null, \"dir\": null, \"by_subcategory\": null, \"collapsed\": []}, \"sorting\": {\"fields\": []}, \"filters\": {\"op\": \"AND\", \"fields\": [{\"field\": \"tag\", \"op\": \"ANY\", \"determinor\": null, \"idx\": 0, \"values\": [\"concept\"]}], \"search\": \"\", \"search_custom_fields\": true, \"search_description\": true, \"search_name\": true, \"show_closed\": false}, \"columns\": {\"fields\": [{\"field\": \"cf_1fd1ac7a-7070-4f1c-b3ef-902b195f6395\", \"idx\": 0, \"width\": 100, \"hidden\": false, \"name\": null, \"display\": null}, {\"field\": \"cf_30c56189-99a0-4b6c-a43c-58bff09b656e\", \"idx\": 1, \"width\": 100, \"hidden\": false, \"name\": null, \"display\": null}, {\"field\": \"cf_15d8e687-34d1-4ea3-b0d3-2b7766bb472c\", \"idx\": 2, \"width\": 100, \"hidden\": false, \"name\": null, \"display\": null}, {\"field\": \"cf_71f75fba-cea1-45a0-8571-463d0721b5d4\", \"idx\": 3, \"width\": 100, \"hidden\": false, \"name\": null, \"display\": null}, {\"field\": \"assignee\", \"idx\": 4, \"width\": 100, \"hidden\": true, \"name\": null, \"display\": null}, {\"field\": \"dueDate\", \"idx\": 5, \"width\": 100, \"hidden\": true, \"name\": null, \"display\": null}, {\"field\": \"cf_2c38492a-e04b-4e2b-8edb-c54a309ba566\", \"idx\": 6, \"width\": 100, \"hidden\": true, \"name\": null, \"display\": null}, {\"field\": \"priority\", \"idx\": 7, \"width\": 100, \"hidden\": true, \"name\": null, \"display\": null}, {\"field\": \"status\", \"idx\": 8, \"width\": 100, \"hidden\": true, \"name\": null, \"display\": null}, {\"field\": \"id\", \"idx\": 9, \"width\": 100, \"hidden\": true, \"name\": null, \"display\": null}, {\"field\": \"customId\", \"idx\": 10, \"width\": 100, \"hidden\": true, \"name\": null, \"display\": null}, {\"field\": \"dateCreated\", \"idx\": 11, \"width\": 100, \"hidden\": true, \"name\": null, \"display\": null}, {\"field\": \"dateUpdated\", \"idx\": 12, \"width\": 100, \"hidden\": true, \"name\": null, \"display\": null}, {\"field\": \"startDate\", \"idx\": 13, \"width\": 100, \"hidden\": true, \"name\": null, \"display\": null}, {\"field\": \"timeLogged\", \"idx\": 14, \"width\": 100, \"hidden\": true, \"name\": null, \"display\": null}, {\"field\": \"timeEstimate\", \"idx\": 15, \"width\": 100, \"hidden\": true, \"name\": null, \"display\": null}, {\"field\": \"sprints\", \"idx\": 16, \"width\": 100, \"hidden\": true, \"name\": null, \"display\": null}, {\"field\": \"dateClosed\", \"idx\": 17, \"width\": 100, \"hidden\": true, \"name\": null, \"display\": null}, {\"field\": \"createdBy\", \"idx\": 18, \"width\": 100, \"hidden\": true, \"name\": null, \"display\": null}, {\"field\": \"latestComment\", \"idx\": 19, \"width\": 100, \"hidden\": true, \"name\": null, \"display\": null}, {\"field\": \"commentCount\", \"idx\": 20, \"width\": 100, \"hidden\": true, \"name\": null, \"display\": null}, {\"field\": \"lists\", \"idx\": 21, \"width\": 140, \"hidden\": true, \"name\": null, \"display\": null}, {\"field\": \"pullRequests\", \"idx\": 22, \"width\": 100, \"hidden\": true, \"name\": null, \"display\": null}, {\"field\": \"incompleteCommentCount\", \"idx\": 23, \"width\": 100, \"hidden\": true, \"name\": null, \"display\": null}, {\"field\": \"linked\", \"idx\": 24, \"width\": 100, \"hidden\": true, \"name\": null, \"display\": null}, {\"field\": \"dependencies\", \"idx\": 25, \"width\": 100, \"hidden\": true, \"name\": null, \"display\": null}, {\"field\": \"pages\", \"idx\": 26, \"width\": 100, \"hidden\": true, \"name\": null, \"display\": null}, {\"field\": \"cf_245eb208-0afb-4e00-90f6-084c3cb21bd5\", \"idx\": 27, \"width\": 100, \"hidden\": true, \"name\": null, \"display\": null}, {\"field\": \"cf_841f766b-aff1-45a0-89b3-1d0f0ed73d53\", \"idx\": 28, \"width\": 100, \"hidden\": true, \"name\": null, \"display\": null}, {\"field\": \"cf_cbe045cb-22df-42b7-a30d-6590d19d494d\", \"idx\": 29, \"width\": 100, \"hidden\": true, \"name\": null, \"display\": null}, {\"field\": \"cf_a6d6ea5d-86fd-4665-bd2b-97f27850a4f1\", \"idx\": 30, \"width\": 100, \"hidden\": true, \"name\": null, \"display\": null}, {\"field\": \"cf_d03471f2-c3ea-42dd-ace0-9ec4f3d94b29\", \"idx\": 31, \"width\": 100, \"hidden\": true, \"name\": null, \"display\": null}, {\"field\": \"cf_f009d22d-1348-4c3d-85aa-64bdd90f1bf0\", \"idx\": 32, \"width\": 100, \"hidden\": true, \"name\": null, \"display\": null}, {\"field\": \"cf_ff830750-a878-48df-b3c4-752d13d6fe34\", \"idx\": 33, \"width\": 100, \"hidden\": true, \"name\": null, \"display\": null}, {\"field\": \"cf_651a5d10-56f9-4cc4-b47a-86aabf8ad4e4\", \"idx\": 34, \"width\": 100, \"hidden\": true, \"name\": null, \"display\": null}, {\"field\": \"cf_1238824c-cc3f-45a3-a1ca-89bb4d0116c5\", \"idx\": 35, \"width\": 100, \"hidden\": true, \"name\": null, \"display\": null}, {\"field\": \"cf_4ec8e5be-6edb-454e-9993-6631295c871b\", \"idx\": 36, \"width\": 100, \"hidden\": true, \"name\": null, \"display\": null}, {\"field\": \"cf_85ffbbfd-0842-4eb6-b209-306dec6378f4\", \"idx\": 37, \"width\": 100, \"hidden\": true, \"name\": null, \"display\": null}, {\"field\": \"cf_68f1e098-611d-4b69-8cdd-a21a5ed10bb2\", \"idx\": 38, \"width\": 100, \"hidden\": true, \"name\": null, \"display\": null}, {\"field\": \"cf_0c932f83-9b59-4f8d-9778-388786849118\", \"idx\": 39, \"width\": 100, \"hidden\": true, \"name\": null, \"display\": null}, {\"field\": \"cf_7ba7d17d-2521-4be3-a2f1-8424f6dbb9a9\", \"idx\": 40, \"width\": 100, \"hidden\": true, \"name\": null, \"display\": null}, {\"field\": \"cf_7a23e71b-c593-467f-a808-17811edcff30\", \"idx\": 41, \"width\": 117, \"hidden\": true, \"name\": null, \"display\": null}, {\"field\": \"cf_93e2b6c3-48bb-4c26-a72c-7df5a223d42a\", \"idx\": 42, \"width\": 100, \"hidden\": true, \"name\": null, \"display\": null}, {\"field\": \"cf_85ddbac4-dc4d-4349-80eb-855827fe85ce\", \"idx\": 43, \"width\": 100, \"hidden\": true, \"name\": null, \"display\": null}, {\"field\": \"cf_e98298fe-37b7-4e23-a482-c52afb96d022\", \"idx\": 44, \"width\": 100, \"hidden\": true, \"name\": null, \"display\": null}, {\"field\": \"cf_c4c291c4-b100-4e12-bcfb-5c079aeb1a22\", \"idx\": 45, \"width\": 100, \"hidden\": true, \"name\": null, \"display\": null}, {\"field\": \"cf_411d15c2-764a-4b02-99bc-9ebce2e335cd\", \"idx\": 46, \"width\": 132, \"hidden\": true, \"name\": null, \"display\": null}, {\"field\": \"name\", \"idx\": 47, \"width\": 100, \"hidden\": true, \"name\": null, \"display\": null}]}, \"team_sidebar\": {\"assignees\": [], \"group_assignees\": [], \"assigned_comments\": false, \"unassigned_tasks\": false}, \"settings\": {\"show_task_locations\": false, \"show_subtasks\": 1, \"show_subtask_parent_names\": true, \"show_closed_subtasks\": false, \"show_assignees\": true, \"show_images\": true, \"show_timer\": false, \"collapse_empty_columns\": null, \"me_comments\": true, \"me_subtasks\": true, \"me_checklists\": true, \"show_empty_statuses\": null, \"auto_wrap\": false, \"time_in_status_view\": 1}, \"date_created\": \"1662517769222\", \"creator\": 26303015, \"visibility\": \"public\", \"protected\": false, \"protected_note\": null, \"protected_by\": null, \"date_protected\": null, \"orderindex\": 6}}'"
      ]
     },
     "execution_count": 4,
     "metadata": {},
     "output_type": "execute_result"
    }
   ],
   "source": [
    "jsonString"
   ]
  },
  {
   "cell_type": "code",
   "execution_count": 31,
   "metadata": {},
   "outputs": [
    {
     "name": "stderr",
     "output_type": "stream",
     "text": [
      "/var/folders/qy/tb7_9f7d5bn161y_1qw30_c00000gn/T/ipykernel_24896/2194336920.py:4: FutureWarning: The default value of regex will change from True to False in a future version.\n",
      "  bob.columns = bob.columns.str.replace('[#,@,&,.]', '_')\n"
     ]
    },
    {
     "data": {
      "text/html": [
       "<div>\n",
       "<style scoped>\n",
       "    .dataframe tbody tr th:only-of-type {\n",
       "        vertical-align: middle;\n",
       "    }\n",
       "\n",
       "    .dataframe tbody tr th {\n",
       "        vertical-align: top;\n",
       "    }\n",
       "\n",
       "    .dataframe thead th {\n",
       "        text-align: right;\n",
       "    }\n",
       "</style>\n",
       "<table border=\"1\" class=\"dataframe\">\n",
       "  <thead>\n",
       "    <tr style=\"text-align: right;\">\n",
       "      <th></th>\n",
       "      <th>field</th>\n",
       "      <th>dir</th>\n",
       "      <th>collapsed</th>\n",
       "      <th>ignore</th>\n",
       "    </tr>\n",
       "  </thead>\n",
       "  <tbody>\n",
       "    <tr>\n",
       "      <th>0</th>\n",
       "      <td>cf_1fd1ac7a-7070-4f1c-b3ef-902b195f6395</td>\n",
       "      <td>1</td>\n",
       "      <td>[]</td>\n",
       "      <td>False</td>\n",
       "    </tr>\n",
       "  </tbody>\n",
       "</table>\n",
       "</div>"
      ],
      "text/plain": [
       "                                     field  dir collapsed  ignore\n",
       "0  cf_1fd1ac7a-7070-4f1c-b3ef-902b195f6395    1        []   False"
      ]
     },
     "execution_count": 31,
     "metadata": {},
     "output_type": "execute_result"
    }
   ],
   "source": [
    "import pandas as pd\n",
    "bob = pd.json_normalize(data, max_level = 1)\n",
    "\n",
    "bob.columns = bob.columns.str.replace('[#,@,&,.]', '_')\n"
   ]
  },
  {
   "cell_type": "code",
   "execution_count": 32,
   "metadata": {},
   "outputs": [
    {
     "data": {
      "text/html": [
       "<div>\n",
       "<style scoped>\n",
       "    .dataframe tbody tr th:only-of-type {\n",
       "        vertical-align: middle;\n",
       "    }\n",
       "\n",
       "    .dataframe tbody tr th {\n",
       "        vertical-align: top;\n",
       "    }\n",
       "\n",
       "    .dataframe thead th {\n",
       "        text-align: right;\n",
       "    }\n",
       "</style>\n",
       "<table border=\"1\" class=\"dataframe\">\n",
       "  <thead>\n",
       "    <tr style=\"text-align: right;\">\n",
       "      <th></th>\n",
       "      <th>view_id</th>\n",
       "      <th>view_name</th>\n",
       "      <th>view_type</th>\n",
       "      <th>view_parent</th>\n",
       "      <th>view_grouping</th>\n",
       "      <th>view_divide</th>\n",
       "      <th>view_sorting</th>\n",
       "      <th>view_filters</th>\n",
       "      <th>view_columns</th>\n",
       "      <th>view_team_sidebar</th>\n",
       "      <th>view_settings</th>\n",
       "      <th>view_date_created</th>\n",
       "      <th>view_creator</th>\n",
       "      <th>view_visibility</th>\n",
       "      <th>view_protected</th>\n",
       "      <th>view_protected_note</th>\n",
       "      <th>view_protected_by</th>\n",
       "      <th>view_date_protected</th>\n",
       "      <th>view_orderindex</th>\n",
       "    </tr>\n",
       "  </thead>\n",
       "  <tbody>\n",
       "    <tr>\n",
       "      <th>0</th>\n",
       "      <td>dhfcu-26450</td>\n",
       "      <td>ALL SUBTOPICS</td>\n",
       "      <td>list</td>\n",
       "      <td>{'id': '375185823', 'type': 6}</td>\n",
       "      <td>{'field': 'cf_1fd1ac7a-7070-4f1c-b3ef-902b195f...</td>\n",
       "      <td>{'field': None, 'dir': None, 'by_subcategory':...</td>\n",
       "      <td>{'fields': []}</td>\n",
       "      <td>{'op': 'AND', 'fields': [{'field': 'tag', 'op'...</td>\n",
       "      <td>{'fields': [{'field': 'cf_1fd1ac7a-7070-4f1c-b...</td>\n",
       "      <td>{'assignees': [], 'group_assignees': [], 'assi...</td>\n",
       "      <td>{'show_task_locations': False, 'show_subtasks'...</td>\n",
       "      <td>1662517769222</td>\n",
       "      <td>26303015</td>\n",
       "      <td>public</td>\n",
       "      <td>False</td>\n",
       "      <td>None</td>\n",
       "      <td>None</td>\n",
       "      <td>None</td>\n",
       "      <td>6</td>\n",
       "    </tr>\n",
       "  </tbody>\n",
       "</table>\n",
       "</div>"
      ],
      "text/plain": [
       "       view_id      view_name view_type                     view_parent  \\\n",
       "0  dhfcu-26450  ALL SUBTOPICS      list  {'id': '375185823', 'type': 6}   \n",
       "\n",
       "                                       view_grouping  \\\n",
       "0  {'field': 'cf_1fd1ac7a-7070-4f1c-b3ef-902b195f...   \n",
       "\n",
       "                                         view_divide    view_sorting  \\\n",
       "0  {'field': None, 'dir': None, 'by_subcategory':...  {'fields': []}   \n",
       "\n",
       "                                        view_filters  \\\n",
       "0  {'op': 'AND', 'fields': [{'field': 'tag', 'op'...   \n",
       "\n",
       "                                        view_columns  \\\n",
       "0  {'fields': [{'field': 'cf_1fd1ac7a-7070-4f1c-b...   \n",
       "\n",
       "                                   view_team_sidebar  \\\n",
       "0  {'assignees': [], 'group_assignees': [], 'assi...   \n",
       "\n",
       "                                       view_settings view_date_created  \\\n",
       "0  {'show_task_locations': False, 'show_subtasks'...     1662517769222   \n",
       "\n",
       "   view_creator view_visibility  view_protected view_protected_note  \\\n",
       "0      26303015          public           False                None   \n",
       "\n",
       "  view_protected_by view_date_protected  view_orderindex  \n",
       "0              None                None                6  "
      ]
     },
     "execution_count": 32,
     "metadata": {},
     "output_type": "execute_result"
    }
   ],
   "source": [
    "bob"
   ]
  },
  {
   "cell_type": "code",
   "execution_count": 34,
   "metadata": {},
   "outputs": [
    {
     "data": {
      "text/html": [
       "<div>\n",
       "<style scoped>\n",
       "    .dataframe tbody tr th:only-of-type {\n",
       "        vertical-align: middle;\n",
       "    }\n",
       "\n",
       "    .dataframe tbody tr th {\n",
       "        vertical-align: top;\n",
       "    }\n",
       "\n",
       "    .dataframe thead th {\n",
       "        text-align: right;\n",
       "    }\n",
       "</style>\n",
       "<table border=\"1\" class=\"dataframe\">\n",
       "  <thead>\n",
       "    <tr style=\"text-align: right;\">\n",
       "      <th></th>\n",
       "      <th>assignees</th>\n",
       "      <th>group_assignees</th>\n",
       "      <th>assigned_comments</th>\n",
       "      <th>unassigned_tasks</th>\n",
       "    </tr>\n",
       "  </thead>\n",
       "  <tbody>\n",
       "    <tr>\n",
       "      <th>0</th>\n",
       "      <td>[]</td>\n",
       "      <td>[]</td>\n",
       "      <td>False</td>\n",
       "      <td>False</td>\n",
       "    </tr>\n",
       "  </tbody>\n",
       "</table>\n",
       "</div>"
      ],
      "text/plain": [
       "  assignees group_assignees  assigned_comments  unassigned_tasks\n",
       "0        []              []              False             False"
      ]
     },
     "execution_count": 34,
     "metadata": {},
     "output_type": "execute_result"
    }
   ],
   "source": [
    "pd.json_normalize(bob.view_team_sidebar)"
   ]
  },
  {
   "cell_type": "code",
   "execution_count": 44,
   "metadata": {},
   "outputs": [],
   "source": [
    "import pandas as pd\n",
    "df = pd.read_json(r'/Users/soren.laney/Desktop/Fall Semester 2022/DS 499 Senior Project/ClickUp API/data.json', typ='series')"
   ]
  },
  {
   "cell_type": "code",
   "execution_count": 45,
   "metadata": {},
   "outputs": [
    {
     "data": {
      "text/plain": [
       "view    {'id': 'dhfcu-26450', 'name': 'ALL SUBTOPICS',...\n",
       "dtype: object"
      ]
     },
     "execution_count": 45,
     "metadata": {},
     "output_type": "execute_result"
    }
   ],
   "source": [
    "df.head()"
   ]
  },
  {
   "cell_type": "code",
   "execution_count": 23,
   "metadata": {},
   "outputs": [
    {
     "name": "stdout",
     "output_type": "stream",
     "text": [
      "{'err': 'Team not authorized', 'ECODE': 'OAUTH_057'}\n"
     ]
    }
   ],
   "source": [
    "# Getting the \"everything View\"\n",
    "\n",
    "import requests\n",
    "\n",
    "team_id = \"7-14204314-1\"\n",
    "url = \"https://api.clickup.com/api/v2/team/\" + team_id + \"/view\"\n",
    "\n",
    "headers = {\"Authorization\": \"pk_30029037_E45ILIQVZ8EDNKD2P1OS3F3GVHNPAQ1O\"}\n",
    "\n",
    "response = requests.get(url, headers=headers)\n",
    "\n",
    "data = response.json()\n",
    "print(data)\n",
    "\n",
    "\n"
   ]
  },
  {
   "cell_type": "code",
   "execution_count": null,
   "metadata": {},
   "outputs": [],
   "source": [
    "# Folder View \n",
    "\n",
    "import requests\n",
    "\n",
    "folder_id = \"YOUR_folder_id_PARAMETER\"\n",
    "url = \"https://api.clickup.com/api/v2/folder/\" + folder_id + \"/view\"\n",
    "\n",
    "headers = {\"Authorization\": \"YOUR_API_KEY_HERE\"}\n",
    "\n",
    "response = requests.get(url, headers=headers)\n",
    "\n",
    "data = response.json()\n",
    "print(data)\n"
   ]
  }
 ],
 "metadata": {
  "kernelspec": {
   "display_name": "Python 3.8.8 64-bit",
   "language": "python",
   "name": "python3"
  },
  "language_info": {
   "codemirror_mode": {
    "name": "ipython",
    "version": 3
   },
   "file_extension": ".py",
   "mimetype": "text/x-python",
   "name": "python",
   "nbconvert_exporter": "python",
   "pygments_lexer": "ipython3",
   "version": "3.8.8"
  },
  "orig_nbformat": 4,
  "vscode": {
   "interpreter": {
    "hash": "aee8b7b246df8f9039afb4144a1f6fd8d2ca17a180786b69acc140d282b71a49"
   }
  }
 },
 "nbformat": 4,
 "nbformat_minor": 2
}
