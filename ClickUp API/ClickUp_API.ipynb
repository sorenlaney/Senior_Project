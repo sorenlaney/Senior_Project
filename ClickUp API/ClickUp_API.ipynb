{
 "cells": [
  {
   "cell_type": "code",
   "execution_count": 37,
   "metadata": {},
   "outputs": [],
   "source": [
    "#Import Libaries \n",
    "import json"
   ]
  },
  {
   "cell_type": "code",
   "execution_count": 1,
   "metadata": {},
   "outputs": [],
   "source": [
    "ClickUp_API_Token = \"pk_30029037_JTXZD8CFCCURGF592B13X7ELLKTHUKFR\""
   ]
  },
  {
   "cell_type": "code",
   "execution_count": 38,
   "metadata": {},
   "outputs": [],
   "source": [
    "# Getting List View for Content Plan\n",
    "\n",
    "#Analyitcs view on tiktok content plan\n",
    "#https://app.clickup.com/14204314/v/l/dhfcu-34107\n",
    "\n",
    "import requests\n",
    "\n",
    "view_id = \"dhfcu-34107\"\n",
    "url = \"https://api.clickup.com/api/v2/view/\" + view_id\n",
    "\n",
    "headers = {\"Authorization\": ClickUp_API_Token}\n",
    "\n",
    "response = requests.get(url, headers=headers)\n",
    "\n",
    "data = response.json()\n",
    "#print(data)"
   ]
  },
  {
   "cell_type": "code",
   "execution_count": 50,
   "metadata": {},
   "outputs": [
    {
     "name": "stdout",
     "output_type": "stream",
     "text": [
      "{'view': {'id': 'dhfcu-34107', 'name': 'ANALYTICS', 'type': 'list', 'parent': {'id': '192720302', 'type': 6}, 'grouping': {'field': 'cf_cd76c367-4187-48e8-bef2-a4a9bfcb2db3', 'dir': 1, 'collapsed': [], 'ignore': False}, 'divide': {'field': None, 'dir': None, 'by_subcategory': None, 'collapsed': []}, 'sorting': {'fields': []}, 'filters': {'op': 'AND', 'fields': [{'field': 'status', 'op': 'EQ', 'determinor': None, 'idx': 0, 'values': [{'type': 'closed'}]}], 'search': '', 'search_custom_fields': True, 'search_description': True, 'search_name': True, 'show_closed': False}, 'columns': {'fields': [{'field': 'assignee', 'idx': 0, 'width': 100, 'hidden': True, 'name': None, 'display': None}, {'field': 'dueDate', 'idx': 1, 'width': 100, 'hidden': True, 'name': None, 'display': None}, {'field': 'priority', 'idx': 2, 'width': 100, 'hidden': True, 'name': None, 'display': None}, {'field': 'status', 'idx': 3, 'width': 100, 'hidden': True, 'name': None, 'display': None}, {'field': 'id', 'idx': 4, 'width': 100, 'hidden': True, 'name': None, 'display': None}, {'field': 'customId', 'idx': 5, 'width': 100, 'hidden': True, 'name': None, 'display': None}, {'field': 'dateCreated', 'idx': 6, 'width': 100, 'hidden': True, 'name': None, 'display': None}, {'field': 'dateUpdated', 'idx': 7, 'width': 100, 'hidden': True, 'name': None, 'display': None}, {'field': 'startDate', 'idx': 8, 'width': 100, 'hidden': True, 'name': None, 'display': None}, {'field': 'timeLogged', 'idx': 9, 'width': 100, 'hidden': True, 'name': None, 'display': None}, {'field': 'sprints', 'idx': 10, 'width': 100, 'hidden': True, 'name': None, 'display': None}, {'field': 'dateClosed', 'idx': 11, 'width': 100, 'hidden': True, 'name': None, 'display': None}, {'field': 'createdBy', 'idx': 12, 'width': 100, 'hidden': True, 'name': None, 'display': None}, {'field': 'latestComment', 'idx': 13, 'width': 100, 'hidden': True, 'name': None, 'display': None}, {'field': 'commentCount', 'idx': 14, 'width': 100, 'hidden': True, 'name': None, 'display': None}, {'field': 'lists', 'idx': 15, 'width': 140, 'hidden': True, 'name': None, 'display': None}, {'field': 'pullRequests', 'idx': 16, 'width': 100, 'hidden': True, 'name': None, 'display': None}, {'field': 'incompleteCommentCount', 'idx': 17, 'width': 100, 'hidden': True, 'name': None, 'display': None}, {'field': 'linked', 'idx': 18, 'width': 100, 'hidden': True, 'name': None, 'display': None}, {'field': 'dependencies', 'idx': 19, 'width': 100, 'hidden': True, 'name': None, 'display': None}, {'field': 'pages', 'idx': 20, 'width': 100, 'hidden': True, 'name': None, 'display': None}, {'field': 'cf_1fd1ac7a-7070-4f1c-b3ef-902b195f6395', 'idx': 21, 'width': 100, 'hidden': False, 'name': None, 'display': None}, {'field': 'cf_1bd8832e-fb19-4b73-b39b-aa77e42e40e8', 'idx': 22, 'width': 100, 'hidden': True, 'name': None, 'display': None}, {'field': 'cf_146be58d-7e0e-4762-b876-fac0febb688b', 'idx': 23, 'width': 100, 'hidden': False, 'name': None, 'display': None}, {'field': 'cf_6b44f190-d489-4025-8fee-32ad976b7a36', 'idx': 24, 'width': 171, 'hidden': False, 'name': None, 'display': None}, {'field': 'cf_ce5e04bc-d8c2-4272-ad2e-f8ec344b0869', 'idx': 25, 'width': 100, 'hidden': False, 'name': None, 'display': None}, {'field': 'cf_6135d0cc-91fc-4849-9f6c-08635d8975e8', 'idx': 26, 'width': 100, 'hidden': True, 'name': None, 'display': None}, {'field': 'cf_78a18e8d-d5cc-4705-bbcd-df97ec3c24f7', 'idx': 27, 'width': 100, 'hidden': True, 'name': None, 'display': None}, {'field': 'cf_7ce01268-4ac5-472c-ad1b-63e5680139a3', 'idx': 28, 'width': 100, 'hidden': True, 'name': None, 'display': None}, {'field': 'cf_df939f9c-b137-4032-9bc7-d773b166fb2b', 'idx': 29, 'width': 100, 'hidden': True, 'name': None, 'display': None}, {'field': 'cf_cd76c367-4187-48e8-bef2-a4a9bfcb2db3', 'idx': 30, 'width': 100, 'hidden': False, 'name': None, 'display': None}, {'field': 'cf_b23af9c6-ca4c-4800-aff1-eed360af79dc', 'idx': 31, 'width': 100, 'hidden': False, 'name': None, 'display': None}, {'field': 'cf_d8aeaae9-f660-4868-b486-b4dfabda02fd', 'idx': 32, 'width': 100, 'hidden': False, 'name': None, 'display': None}, {'field': 'cf_adda3c8e-0f33-4df8-9fa7-c638d0c5bf43', 'idx': 33, 'width': 100, 'hidden': True, 'name': None, 'display': None}, {'field': 'cf_31f51e30-5fda-4a73-aae8-c1b4be0d8e89', 'idx': 34, 'width': 170, 'hidden': False, 'name': None, 'display': None}, {'field': 'cf_fdd13ed3-e76a-4769-bf8b-026e413fa11a', 'idx': 35, 'width': 174, 'hidden': False, 'name': None, 'display': None}, {'field': 'cf_b1b6a10a-7370-4919-8eb7-b6a330a473ec', 'idx': 36, 'width': 100, 'hidden': False, 'name': None, 'display': None}, {'field': 'cf_2205ba34-8120-4f77-8fe7-b1bb74cf68c5', 'idx': 37, 'width': 100, 'hidden': False, 'name': None, 'display': None}, {'field': 'cf_706e2523-c5c2-42bf-b0bd-0e2ddd37c885', 'idx': 38, 'width': 168, 'hidden': False, 'name': None, 'display': None}, {'field': 'cf_57eb845a-f17d-4ff6-8893-7005a5bab805', 'idx': 39, 'width': 100, 'hidden': False, 'name': None, 'display': None}, {'field': 'cf_86dc88ac-92f9-4bb4-aa1f-74f6d8a33b58', 'idx': 40, 'width': 119, 'hidden': False, 'name': None, 'display': None}, {'field': 'cf_4985913b-5790-4477-8dc8-ea366d4c5dcf', 'idx': 41, 'width': 100, 'hidden': False, 'name': None, 'display': None}, {'field': 'cf_3694e535-ca39-477d-ad82-48e5fa2e9d83', 'idx': 42, 'width': 100, 'hidden': False, 'name': None, 'display': None}, {'field': 'cf_edb0bd32-9d36-4c6b-ad1c-e57c833a5462', 'idx': 43, 'width': 100, 'hidden': False, 'name': None, 'display': None}, {'field': 'cf_e63b82f5-2300-4318-aca6-e4026598d2b2', 'idx': 44, 'width': 100, 'hidden': False, 'name': None, 'display': None}, {'field': 'cf_0bdb7437-4d84-4308-8b9a-9c53143730aa', 'idx': 45, 'width': 100, 'hidden': False, 'name': None, 'display': None}, {'field': 'cf_811a8ef1-dfb6-4be4-a4a5-21a781bf94c8', 'idx': 46, 'width': 169, 'hidden': False, 'name': None, 'display': None}, {'field': 'cf_2a6347b4-14b4-44d6-a76d-f2cd382557a6', 'idx': 47, 'width': 100, 'hidden': False, 'name': None, 'display': None}, {'field': 'cf_de07bd9e-a5ed-4ab0-8476-ad3326aebc2d', 'idx': 48, 'width': 100, 'hidden': False, 'name': None, 'display': None}, {'field': 'name', 'idx': 49, 'width': 100, 'hidden': True, 'name': None, 'display': None}]}, 'team_sidebar': {'assignees': [], 'group_assignees': [], 'assigned_comments': False, 'unassigned_tasks': False}, 'settings': {'show_task_locations': False, 'show_subtasks': 1, 'show_subtask_parent_names': True, 'show_closed_subtasks': False, 'show_assignees': True, 'show_images': True, 'show_timer': False, 'collapse_empty_columns': None, 'me_comments': True, 'me_subtasks': True, 'me_checklists': True, 'show_empty_statuses': False, 'auto_wrap': False, 'time_in_status_view': 1}, 'date_created': '1667154838711', 'creator': 26303015, 'visibility': 'public', 'protected': False, 'protected_note': None, 'protected_by': None, 'date_protected': None, 'orderindex': 14}}\n"
     ]
    }
   ],
   "source": [
    "#Get View Taks for content plan\n",
    "\n",
    "import requests\n",
    "\n",
    "view_id = \"dhfcu-34107\"\n",
    "url = \"https://api.clickup.com/api/v2/view/\" + view_id + \"/task\"\n",
    "\n",
    "query = {\n",
    "  \"page\": \"0\"\n",
    "}\n",
    "\n",
    "headers = {\"Authorization\": ClickUp_API_Token}\n",
    "\n",
    "response = requests.get(url, headers=headers, params=query)\n",
    "\n",
    "data_view_task = response.json()\n",
    "print(data)"
   ]
  },
  {
   "cell_type": "code",
   "execution_count": 24,
   "metadata": {},
   "outputs": [],
   "source": [
    "import json\n",
    "\n",
    "jsonString = json.dumps(data)\n",
    "jsonFile = open(\"data.json\", \"w\")\n",
    "jsonFile.write(jsonString)\n",
    "jsonFile.close()"
   ]
  },
  {
   "cell_type": "code",
   "execution_count": 51,
   "metadata": {},
   "outputs": [],
   "source": [
    "# for task view \n",
    "\n",
    "import json\n",
    "\n",
    "jsonString = json.dumps(data_view_task)\n",
    "jsonFile = open(\"data_view_task.json\", \"w\")\n",
    "jsonFile.write(jsonString)\n",
    "jsonFile.close()"
   ]
  },
  {
   "cell_type": "code",
   "execution_count": 52,
   "metadata": {},
   "outputs": [
    {
     "name": "stderr",
     "output_type": "stream",
     "text": [
      "/var/folders/qy/tb7_9f7d5bn161y_1qw30_c00000gn/T/ipykernel_14584/1466421703.py:4: FutureWarning: The default value of regex will change from True to False in a future version.\n",
      "  bob_2.columns = bob_2.columns.str.replace('[#,@,&,.]', '_')\n"
     ]
    }
   ],
   "source": [
    "import pandas as pd\n",
    "bob_2 = pd.json_normalize(data, max_level = 1)\n",
    "\n",
    "bob_2.columns = bob_2.columns.str.replace('[#,@,&,.]', '_')"
   ]
  },
  {
   "cell_type": "code",
   "execution_count": 58,
   "metadata": {},
   "outputs": [
    {
     "data": {
      "text/html": [
       "<div>\n",
       "<style scoped>\n",
       "    .dataframe tbody tr th:only-of-type {\n",
       "        vertical-align: middle;\n",
       "    }\n",
       "\n",
       "    .dataframe tbody tr th {\n",
       "        vertical-align: top;\n",
       "    }\n",
       "\n",
       "    .dataframe thead th {\n",
       "        text-align: right;\n",
       "    }\n",
       "</style>\n",
       "<table border=\"1\" class=\"dataframe\">\n",
       "  <thead>\n",
       "    <tr style=\"text-align: right;\">\n",
       "      <th></th>\n",
       "    </tr>\n",
       "  </thead>\n",
       "  <tbody>\n",
       "    <tr>\n",
       "      <th>0</th>\n",
       "    </tr>\n",
       "  </tbody>\n",
       "</table>\n",
       "</div>"
      ],
      "text/plain": [
       "Empty DataFrame\n",
       "Columns: []\n",
       "Index: [0]"
      ]
     },
     "execution_count": 58,
     "metadata": {},
     "output_type": "execute_result"
    }
   ],
   "source": [
    "test = pd.json_normalize(bob_2.view_protected)\n",
    "test"
   ]
  },
  {
   "cell_type": "code",
   "execution_count": 45,
   "metadata": {},
   "outputs": [
    {
     "data": {
      "text/plain": [
       "'{\\n  \"view\": {\\n    \"id\": \"dhfcu-34107\",\\n    \"name\": \"ANALYTICS\",\\n    \"type\": \"list\",\\n    \"parent\": {\\n      \"id\": \"192720302\",\\n      \"type\": 6\\n    },\\n    \"grouping\": {\\n      \"field\": \"cf_cd76c367-4187-48e8-bef2-a4a9bfcb2db3\",\\n      \"dir\": 1,\\n      \"collapsed\": [],\\n      \"ignore\": false\\n    },\\n    \"divide\": {\\n      \"field\": null,\\n      \"dir\": null,\\n      \"by_subcategory\": null,\\n      \"collapsed\": []\\n    },\\n    \"sorting\": {\\n      \"fields\": []\\n    },\\n    \"filters\": {\\n      \"op\": \"AND\",\\n      \"fields\": [\\n        {\\n          \"field\": \"status\",\\n          \"op\": \"EQ\",\\n          \"determinor\": null,\\n          \"idx\": 0,\\n          \"values\": [\\n            {\\n              \"type\": \"closed\"\\n            }\\n          ]\\n        }\\n      ],\\n      \"search\": \"\",\\n      \"search_custom_fields\": true,\\n      \"search_description\": true,\\n      \"search_name\": true,\\n      \"show_closed\": false\\n    },\\n    \"columns\": {\\n      \"fields\": [\\n        {\\n          \"field\": \"assignee\",\\n          \"idx\": 0,\\n          \"width\": 100,\\n          \"hidden\": true,\\n          \"name\": null,\\n          \"display\": null\\n        },\\n        {\\n          \"field\": \"dueDate\",\\n          \"idx\": 1,\\n          \"width\": 100,\\n          \"hidden\": true,\\n          \"name\": null,\\n          \"display\": null\\n        },\\n        {\\n          \"field\": \"priority\",\\n          \"idx\": 2,\\n          \"width\": 100,\\n          \"hidden\": true,\\n          \"name\": null,\\n          \"display\": null\\n        },\\n        {\\n          \"field\": \"status\",\\n          \"idx\": 3,\\n          \"width\": 100,\\n          \"hidden\": true,\\n          \"name\": null,\\n          \"display\": null\\n        },\\n        {\\n          \"field\": \"id\",\\n          \"idx\": 4,\\n          \"width\": 100,\\n          \"hidden\": true,\\n          \"name\": null,\\n          \"display\": null\\n        },\\n        {\\n          \"field\": \"customId\",\\n          \"idx\": 5,\\n          \"width\": 100,\\n          \"hidden\": true,\\n          \"name\": null,\\n          \"display\": null\\n        },\\n        {\\n          \"field\": \"dateCreated\",\\n          \"idx\": 6,\\n          \"width\": 100,\\n          \"hidden\": true,\\n          \"name\": null,\\n          \"display\": null\\n        },\\n        {\\n          \"field\": \"dateUpdated\",\\n          \"idx\": 7,\\n          \"width\": 100,\\n          \"hidden\": true,\\n          \"name\": null,\\n          \"display\": null\\n        },\\n        {\\n          \"field\": \"startDate\",\\n          \"idx\": 8,\\n          \"width\": 100,\\n          \"hidden\": true,\\n          \"name\": null,\\n          \"display\": null\\n        },\\n        {\\n          \"field\": \"timeLogged\",\\n          \"idx\": 9,\\n          \"width\": 100,\\n          \"hidden\": true,\\n          \"name\": null,\\n          \"display\": null\\n        },\\n        {\\n          \"field\": \"sprints\",\\n          \"idx\": 10,\\n          \"width\": 100,\\n          \"hidden\": true,\\n          \"name\": null,\\n          \"display\": null\\n        },\\n        {\\n          \"field\": \"dateClosed\",\\n          \"idx\": 11,\\n          \"width\": 100,\\n          \"hidden\": true,\\n          \"name\": null,\\n          \"display\": null\\n        },\\n        {\\n          \"field\": \"createdBy\",\\n          \"idx\": 12,\\n          \"width\": 100,\\n          \"hidden\": true,\\n          \"name\": null,\\n          \"display\": null\\n        },\\n        {\\n          \"field\": \"latestComment\",\\n          \"idx\": 13,\\n          \"width\": 100,\\n          \"hidden\": true,\\n          \"name\": null,\\n          \"display\": null\\n        },\\n        {\\n          \"field\": \"commentCount\",\\n          \"idx\": 14,\\n          \"width\": 100,\\n          \"hidden\": true,\\n          \"name\": null,\\n          \"display\": null\\n        },\\n        {\\n          \"field\": \"lists\",\\n          \"idx\": 15,\\n          \"width\": 140,\\n          \"hidden\": true,\\n          \"name\": null,\\n          \"display\": null\\n        },\\n        {\\n          \"field\": \"pullRequests\",\\n          \"idx\": 16,\\n          \"width\": 100,\\n          \"hidden\": true,\\n          \"name\": null,\\n          \"display\": null\\n        },\\n        {\\n          \"field\": \"incompleteCommentCount\",\\n          \"idx\": 17,\\n          \"width\": 100,\\n          \"hidden\": true,\\n          \"name\": null,\\n          \"display\": null\\n        },\\n        {\\n          \"field\": \"linked\",\\n          \"idx\": 18,\\n          \"width\": 100,\\n          \"hidden\": true,\\n          \"name\": null,\\n          \"display\": null\\n        },\\n        {\\n          \"field\": \"dependencies\",\\n          \"idx\": 19,\\n          \"width\": 100,\\n          \"hidden\": true,\\n          \"name\": null,\\n          \"display\": null\\n        },\\n        {\\n          \"field\": \"pages\",\\n          \"idx\": 20,\\n          \"width\": 100,\\n          \"hidden\": true,\\n          \"name\": null,\\n          \"display\": null\\n        },\\n        {\\n          \"field\": \"cf_1fd1ac7a-7070-4f1c-b3ef-902b195f6395\",\\n          \"idx\": 21,\\n          \"width\": 100,\\n          \"hidden\": false,\\n          \"name\": null,\\n          \"display\": null\\n        },\\n        {\\n          \"field\": \"cf_1bd8832e-fb19-4b73-b39b-aa77e42e40e8\",\\n          \"idx\": 22,\\n          \"width\": 100,\\n          \"hidden\": true,\\n          \"name\": null,\\n          \"display\": null\\n        },\\n        {\\n          \"field\": \"cf_146be58d-7e0e-4762-b876-fac0febb688b\",\\n          \"idx\": 23,\\n          \"width\": 100,\\n          \"hidden\": false,\\n          \"name\": null,\\n          \"display\": null\\n        },\\n        {\\n          \"field\": \"cf_6b44f190-d489-4025-8fee-32ad976b7a36\",\\n          \"idx\": 24,\\n          \"width\": 171,\\n          \"hidden\": false,\\n          \"name\": null,\\n          \"display\": null\\n        },\\n        {\\n          \"field\": \"cf_ce5e04bc-d8c2-4272-ad2e-f8ec344b0869\",\\n          \"idx\": 25,\\n          \"width\": 100,\\n          \"hidden\": false,\\n          \"name\": null,\\n          \"display\": null\\n        },\\n        {\\n          \"field\": \"cf_6135d0cc-91fc-4849-9f6c-08635d8975e8\",\\n          \"idx\": 26,\\n          \"width\": 100,\\n          \"hidden\": true,\\n          \"name\": null,\\n          \"display\": null\\n        },\\n        {\\n          \"field\": \"cf_78a18e8d-d5cc-4705-bbcd-df97ec3c24f7\",\\n          \"idx\": 27,\\n          \"width\": 100,\\n          \"hidden\": true,\\n          \"name\": null,\\n          \"display\": null\\n        },\\n        {\\n          \"field\": \"cf_7ce01268-4ac5-472c-ad1b-63e5680139a3\",\\n          \"idx\": 28,\\n          \"width\": 100,\\n          \"hidden\": true,\\n          \"name\": null,\\n          \"display\": null\\n        },\\n        {\\n          \"field\": \"cf_df939f9c-b137-4032-9bc7-d773b166fb2b\",\\n          \"idx\": 29,\\n          \"width\": 100,\\n          \"hidden\": true,\\n          \"name\": null,\\n          \"display\": null\\n        },\\n        {\\n          \"field\": \"cf_cd76c367-4187-48e8-bef2-a4a9bfcb2db3\",\\n          \"idx\": 30,\\n          \"width\": 100,\\n          \"hidden\": false,\\n          \"name\": null,\\n          \"display\": null\\n        },\\n        {\\n          \"field\": \"cf_b23af9c6-ca4c-4800-aff1-eed360af79dc\",\\n          \"idx\": 31,\\n          \"width\": 100,\\n          \"hidden\": false,\\n          \"name\": null,\\n          \"display\": null\\n        },\\n        {\\n          \"field\": \"cf_d8aeaae9-f660-4868-b486-b4dfabda02fd\",\\n          \"idx\": 32,\\n          \"width\": 100,\\n          \"hidden\": false,\\n          \"name\": null,\\n          \"display\": null\\n        },\\n        {\\n          \"field\": \"cf_adda3c8e-0f33-4df8-9fa7-c638d0c5bf43\",\\n          \"idx\": 33,\\n          \"width\": 100,\\n          \"hidden\": true,\\n          \"name\": null,\\n          \"display\": null\\n        },\\n        {\\n          \"field\": \"cf_31f51e30-5fda-4a73-aae8-c1b4be0d8e89\",\\n          \"idx\": 34,\\n          \"width\": 170,\\n          \"hidden\": false,\\n          \"name\": null,\\n          \"display\": null\\n        },\\n        {\\n          \"field\": \"cf_fdd13ed3-e76a-4769-bf8b-026e413fa11a\",\\n          \"idx\": 35,\\n          \"width\": 174,\\n          \"hidden\": false,\\n          \"name\": null,\\n          \"display\": null\\n        },\\n        {\\n          \"field\": \"cf_b1b6a10a-7370-4919-8eb7-b6a330a473ec\",\\n          \"idx\": 36,\\n          \"width\": 100,\\n          \"hidden\": false,\\n          \"name\": null,\\n          \"display\": null\\n        },\\n        {\\n          \"field\": \"cf_2205ba34-8120-4f77-8fe7-b1bb74cf68c5\",\\n          \"idx\": 37,\\n          \"width\": 100,\\n          \"hidden\": false,\\n          \"name\": null,\\n          \"display\": null\\n        },\\n        {\\n          \"field\": \"cf_706e2523-c5c2-42bf-b0bd-0e2ddd37c885\",\\n          \"idx\": 38,\\n          \"width\": 168,\\n          \"hidden\": false,\\n          \"name\": null,\\n          \"display\": null\\n        },\\n        {\\n          \"field\": \"cf_57eb845a-f17d-4ff6-8893-7005a5bab805\",\\n          \"idx\": 39,\\n          \"width\": 100,\\n          \"hidden\": false,\\n          \"name\": null,\\n          \"display\": null\\n        },\\n        {\\n          \"field\": \"cf_86dc88ac-92f9-4bb4-aa1f-74f6d8a33b58\",\\n          \"idx\": 40,\\n          \"width\": 119,\\n          \"hidden\": false,\\n          \"name\": null,\\n          \"display\": null\\n        },\\n        {\\n          \"field\": \"cf_4985913b-5790-4477-8dc8-ea366d4c5dcf\",\\n          \"idx\": 41,\\n          \"width\": 100,\\n          \"hidden\": false,\\n          \"name\": null,\\n          \"display\": null\\n        },\\n        {\\n          \"field\": \"cf_3694e535-ca39-477d-ad82-48e5fa2e9d83\",\\n          \"idx\": 42,\\n          \"width\": 100,\\n          \"hidden\": false,\\n          \"name\": null,\\n          \"display\": null\\n        },\\n        {\\n          \"field\": \"cf_edb0bd32-9d36-4c6b-ad1c-e57c833a5462\",\\n          \"idx\": 43,\\n          \"width\": 100,\\n          \"hidden\": false,\\n          \"name\": null,\\n          \"display\": null\\n        },\\n        {\\n          \"field\": \"cf_e63b82f5-2300-4318-aca6-e4026598d2b2\",\\n          \"idx\": 44,\\n          \"width\": 100,\\n          \"hidden\": false,\\n          \"name\": null,\\n          \"display\": null\\n        },\\n        {\\n          \"field\": \"cf_0bdb7437-4d84-4308-8b9a-9c53143730aa\",\\n          \"idx\": 45,\\n          \"width\": 100,\\n          \"hidden\": false,\\n          \"name\": null,\\n          \"display\": null\\n        },\\n        {\\n          \"field\": \"cf_811a8ef1-dfb6-4be4-a4a5-21a781bf94c8\",\\n          \"idx\": 46,\\n          \"width\": 169,\\n          \"hidden\": false,\\n          \"name\": null,\\n          \"display\": null\\n        },\\n        {\\n          \"field\": \"cf_2a6347b4-14b4-44d6-a76d-f2cd382557a6\",\\n          \"idx\": 47,\\n          \"width\": 100,\\n          \"hidden\": false,\\n          \"name\": null,\\n          \"display\": null\\n        },\\n        {\\n          \"field\": \"cf_de07bd9e-a5ed-4ab0-8476-ad3326aebc2d\",\\n          \"idx\": 48,\\n          \"width\": 100,\\n          \"hidden\": false,\\n          \"name\": null,\\n          \"display\": null\\n        },\\n        {\\n          \"field\": \"name\",\\n          \"idx\": 49,\\n          \"width\": 100,\\n          \"hidden\": true,\\n          \"name\": null,\\n          \"display\": null\\n        }\\n      ]\\n    },\\n    \"team_sidebar\": {\\n      \"assignees\": [],\\n      \"group_assignees\": [],\\n      \"assigned_comments\": false,\\n      \"unassigned_tasks\": false\\n    },\\n    \"settings\": {\\n      \"show_task_locations\": false,\\n      \"show_subtasks\": 1,\\n      \"show_subtask_parent_names\": true,\\n      \"show_closed_subtasks\": false,\\n      \"show_assignees\": true,\\n      \"show_images\": true,\\n      \"show_timer\": false,\\n      \"collapse_empty_columns\": null,\\n      \"me_comments\": true,\\n      \"me_subtasks\": true,\\n      \"me_checklists\": true,\\n      \"show_empty_statuses\": false,\\n      \"auto_wrap\": false,\\n      \"time_in_status_view\": 1\\n    },\\n    \"date_created\": \"1667154838711\",\\n    \"creator\": 26303015,\\n    \"visibility\": \"public\",\\n    \"protected\": false,\\n    \"protected_note\": null,\\n    \"protected_by\": null,\\n    \"date_protected\": null,\\n    \"orderindex\": 14\\n  }\\n}'"
      ]
     },
     "execution_count": 45,
     "metadata": {},
     "output_type": "execute_result"
    }
   ],
   "source": [
    "# test \n",
    "\n",
    "data_test = json.loads(jsonString)\n",
    "#data_test\n",
    "\n",
    "#print(type(data_test))\n",
    "\n",
    "new_data_test = json.dumps(data, indent=2)\n",
    "new_data_test"
   ]
  },
  {
   "cell_type": "code",
   "execution_count": 25,
   "metadata": {},
   "outputs": [],
   "source": [
    "#jsonString"
   ]
  },
  {
   "cell_type": "code",
   "execution_count": 26,
   "metadata": {},
   "outputs": [
    {
     "name": "stderr",
     "output_type": "stream",
     "text": [
      "/var/folders/qy/tb7_9f7d5bn161y_1qw30_c00000gn/T/ipykernel_14584/2620804867.py:4: FutureWarning: The default value of regex will change from True to False in a future version.\n",
      "  bob.columns = bob.columns.str.replace('[#,@,&,.]', '_')\n"
     ]
    }
   ],
   "source": [
    "import pandas as pd\n",
    "bob = pd.json_normalize(data, max_level = 1)\n",
    "\n",
    "bob.columns = bob.columns.str.replace('[#,@,&,.]', '_')\n"
   ]
  },
  {
   "cell_type": "code",
   "execution_count": 27,
   "metadata": {},
   "outputs": [
    {
     "data": {
      "text/html": [
       "<div>\n",
       "<style scoped>\n",
       "    .dataframe tbody tr th:only-of-type {\n",
       "        vertical-align: middle;\n",
       "    }\n",
       "\n",
       "    .dataframe tbody tr th {\n",
       "        vertical-align: top;\n",
       "    }\n",
       "\n",
       "    .dataframe thead th {\n",
       "        text-align: right;\n",
       "    }\n",
       "</style>\n",
       "<table border=\"1\" class=\"dataframe\">\n",
       "  <thead>\n",
       "    <tr style=\"text-align: right;\">\n",
       "      <th></th>\n",
       "      <th>view_id</th>\n",
       "      <th>view_name</th>\n",
       "      <th>view_type</th>\n",
       "      <th>view_parent</th>\n",
       "      <th>view_grouping</th>\n",
       "      <th>view_divide</th>\n",
       "      <th>view_sorting</th>\n",
       "      <th>view_filters</th>\n",
       "      <th>view_columns</th>\n",
       "      <th>view_team_sidebar</th>\n",
       "      <th>view_settings</th>\n",
       "      <th>view_date_created</th>\n",
       "      <th>view_creator</th>\n",
       "      <th>view_visibility</th>\n",
       "      <th>view_protected</th>\n",
       "      <th>view_protected_note</th>\n",
       "      <th>view_protected_by</th>\n",
       "      <th>view_date_protected</th>\n",
       "      <th>view_orderindex</th>\n",
       "    </tr>\n",
       "  </thead>\n",
       "  <tbody>\n",
       "    <tr>\n",
       "      <th>0</th>\n",
       "      <td>dhfcu-34107</td>\n",
       "      <td>ANALYTICS</td>\n",
       "      <td>list</td>\n",
       "      <td>{'id': '192720302', 'type': 6}</td>\n",
       "      <td>{'field': 'cf_cd76c367-4187-48e8-bef2-a4a9bfcb...</td>\n",
       "      <td>{'field': None, 'dir': None, 'by_subcategory':...</td>\n",
       "      <td>{'fields': []}</td>\n",
       "      <td>{'op': 'AND', 'fields': [{'field': 'status', '...</td>\n",
       "      <td>{'fields': [{'field': 'assignee', 'idx': 0, 'w...</td>\n",
       "      <td>{'assignees': [], 'group_assignees': [], 'assi...</td>\n",
       "      <td>{'show_task_locations': False, 'show_subtasks'...</td>\n",
       "      <td>1667154838711</td>\n",
       "      <td>26303015</td>\n",
       "      <td>public</td>\n",
       "      <td>False</td>\n",
       "      <td>None</td>\n",
       "      <td>None</td>\n",
       "      <td>None</td>\n",
       "      <td>14</td>\n",
       "    </tr>\n",
       "  </tbody>\n",
       "</table>\n",
       "</div>"
      ],
      "text/plain": [
       "       view_id  view_name view_type                     view_parent  \\\n",
       "0  dhfcu-34107  ANALYTICS      list  {'id': '192720302', 'type': 6}   \n",
       "\n",
       "                                       view_grouping  \\\n",
       "0  {'field': 'cf_cd76c367-4187-48e8-bef2-a4a9bfcb...   \n",
       "\n",
       "                                         view_divide    view_sorting  \\\n",
       "0  {'field': None, 'dir': None, 'by_subcategory':...  {'fields': []}   \n",
       "\n",
       "                                        view_filters  \\\n",
       "0  {'op': 'AND', 'fields': [{'field': 'status', '...   \n",
       "\n",
       "                                        view_columns  \\\n",
       "0  {'fields': [{'field': 'assignee', 'idx': 0, 'w...   \n",
       "\n",
       "                                   view_team_sidebar  \\\n",
       "0  {'assignees': [], 'group_assignees': [], 'assi...   \n",
       "\n",
       "                                       view_settings view_date_created  \\\n",
       "0  {'show_task_locations': False, 'show_subtasks'...     1667154838711   \n",
       "\n",
       "   view_creator view_visibility  view_protected view_protected_note  \\\n",
       "0      26303015          public           False                None   \n",
       "\n",
       "  view_protected_by view_date_protected  view_orderindex  \n",
       "0              None                None               14  "
      ]
     },
     "execution_count": 27,
     "metadata": {},
     "output_type": "execute_result"
    }
   ],
   "source": [
    "bob"
   ]
  },
  {
   "cell_type": "code",
   "execution_count": 59,
   "metadata": {},
   "outputs": [
    {
     "data": {
      "text/html": [
       "<div>\n",
       "<style scoped>\n",
       "    .dataframe tbody tr th:only-of-type {\n",
       "        vertical-align: middle;\n",
       "    }\n",
       "\n",
       "    .dataframe tbody tr th {\n",
       "        vertical-align: top;\n",
       "    }\n",
       "\n",
       "    .dataframe thead th {\n",
       "        text-align: right;\n",
       "    }\n",
       "</style>\n",
       "<table border=\"1\" class=\"dataframe\">\n",
       "  <thead>\n",
       "    <tr style=\"text-align: right;\">\n",
       "      <th></th>\n",
       "      <th>assignees</th>\n",
       "      <th>group_assignees</th>\n",
       "      <th>assigned_comments</th>\n",
       "      <th>unassigned_tasks</th>\n",
       "    </tr>\n",
       "  </thead>\n",
       "  <tbody>\n",
       "    <tr>\n",
       "      <th>0</th>\n",
       "      <td>[]</td>\n",
       "      <td>[]</td>\n",
       "      <td>False</td>\n",
       "      <td>False</td>\n",
       "    </tr>\n",
       "  </tbody>\n",
       "</table>\n",
       "</div>"
      ],
      "text/plain": [
       "  assignees group_assignees  assigned_comments  unassigned_tasks\n",
       "0        []              []              False             False"
      ]
     },
     "execution_count": 59,
     "metadata": {},
     "output_type": "execute_result"
    }
   ],
   "source": [
    "test = pd.json_normalize(bob.view_team_sidebar)\n",
    "test"
   ]
  },
  {
   "cell_type": "code",
   "execution_count": 49,
   "metadata": {},
   "outputs": [
    {
     "name": "stdout",
     "output_type": "stream",
     "text": [
      "<class 'pandas.core.frame.DataFrame'>\n"
     ]
    }
   ],
   "source": [
    "#print(type(test))\n",
    "\n"
   ]
  },
  {
   "cell_type": "code",
   "execution_count": 23,
   "metadata": {},
   "outputs": [
    {
     "name": "stdout",
     "output_type": "stream",
     "text": [
      "{'err': 'Team not authorized', 'ECODE': 'OAUTH_057'}\n"
     ]
    }
   ],
   "source": [
    "# Getting the \"everything View\"\n",
    "\n",
    "import requests\n",
    "\n",
    "team_id = \"7-14204314-1\"\n",
    "url = \"https://api.clickup.com/api/v2/team/\" + team_id + \"/view\"\n",
    "\n",
    "headers = {\"Authorization\": ClickUp_API_Token}\n",
    "\n",
    "response = requests.get(url, headers=headers)\n",
    "\n",
    "data = response.json()\n",
    "print(data)\n",
    "\n",
    "\n"
   ]
  },
  {
   "cell_type": "code",
   "execution_count": null,
   "metadata": {},
   "outputs": [],
   "source": [
    "# Folder View \n",
    "\n",
    "import requests\n",
    "\n",
    "folder_id = \"YOUR_folder_id_PARAMETER\"\n",
    "url = \"https://api.clickup.com/api/v2/folder/\" + folder_id + \"/view\"\n",
    "\n",
    "headers = {\"Authorization\": \"YOUR_API_KEY_HERE\"}\n",
    "\n",
    "response = requests.get(url, headers=headers)\n",
    "\n",
    "data = response.json()\n",
    "print(data)\n"
   ]
  }
 ],
 "metadata": {
  "kernelspec": {
   "display_name": "Python 3.8.8 64-bit",
   "language": "python",
   "name": "python3"
  },
  "language_info": {
   "codemirror_mode": {
    "name": "ipython",
    "version": 3
   },
   "file_extension": ".py",
   "mimetype": "text/x-python",
   "name": "python",
   "nbconvert_exporter": "python",
   "pygments_lexer": "ipython3",
   "version": "3.8.8"
  },
  "orig_nbformat": 4,
  "vscode": {
   "interpreter": {
    "hash": "aee8b7b246df8f9039afb4144a1f6fd8d2ca17a180786b69acc140d282b71a49"
   }
  }
 },
 "nbformat": 4,
 "nbformat_minor": 2
}
